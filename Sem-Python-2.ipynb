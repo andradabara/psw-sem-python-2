{
 "cells": [
  {
   "cell_type": "markdown",
   "metadata": {},
   "source": [
    "# Seminar Python 2\n",
    "\n",
    "## 1 Operații cu fișiere în Python\n",
    "Funcția built-in `open()` returnează un obiect file (fișier). Citirea din fișiere text se face cu metodele `read()`, `readline()` și `readlines()`.  \n",
    "\n",
    "Funcția `open()` are două argumente importante: numele fișierului și modul de deschidere:  \n",
    "`\"r\"` – read only – implicit. Deschide fișierul pentru citire; dă eroare dacă fișierul nu există.  \n",
    "`\"r+\"` – citire și scriere (actualizare);  \n",
    "`\"a\"` - append: adăugare (scriere) la sfârșitul fișierului; dacă nu există, fișierul este creat;  \n",
    "`\"w\"` - write only: deschide pentru scriere; dacă nu există, fișierul este creat; dacă există, conținutul este șters;  \n",
    "`\"x\"` - create:  creează un fișier; dă eroare dacă fișierul există deja.\n",
    "\n",
    "Metoda read() citește tot conținutul fișierului și returnează un șir (string). Se poate specifica numărul maxim de caractere de citit: `read(100)`  \n",
    "Metoda `readline()` citește și returnează o linie (încheiată cu caracterul `\\n`). Returnează un șir vid dacă s-a atins sfârșitul de fișier (EOF).  \n",
    "`readlines()` citește toate liniile din fișier într-o listă de șiruri."
   ]
  },
  {
   "cell_type": "code",
   "execution_count": null,
   "metadata": {},
   "outputs": [],
   "source": [
    "path=\"\" #setați calea către fișierele de date, după caz\n",
    "\n",
    "#Exemplul 1.a\n",
    "\n",
    "f = open(path+\"Data1.txt\", \"r\")\n",
    "print(f.read())\n",
    "f.close()"
   ]
  },
  {
   "cell_type": "code",
   "execution_count": null,
   "metadata": {},
   "outputs": [],
   "source": [
    "#Exemplul 1.b: citire 100 caractere\n",
    "f = open(path+\"Data1.txt\", \"r\")\n",
    "print(f.read(100))"
   ]
  },
  {
   "cell_type": "code",
   "execution_count": null,
   "metadata": {},
   "outputs": [],
   "source": [
    "#Exemplul 1.c\n",
    "print(f.readline( )) #readline() se oprește la sfârșit de linie\n",
    "print(f.readline())\n",
    "f.close()"
   ]
  },
  {
   "cell_type": "code",
   "execution_count": null,
   "metadata": {},
   "outputs": [],
   "source": [
    "#Exemplul 1.d\n",
    "f = open(path+\"Data1.txt\", \"r\")\n",
    "\n",
    "for line in f: #iterare în obiectul file\n",
    "  print(line, end='')\n",
    "f.close()"
   ]
  },
  {
   "cell_type": "markdown",
   "metadata": {},
   "source": [
    "Al doilea argument (mode) poate specifica tipul fișierului:\n",
    "`\"t\"` - Text - implicit, fișier text.\n",
    "`\"b\"` - Binary – fișier binar (de ex. fișier imagine)\n",
    "\n",
    "`f = open(\"Data1.txt\")`  este echivalent cu `f = open(\"Data1.txt\", \"rt\")`  \n",
    "Fișierele trebuiesc închise cu `f.close()`.  \n",
    "O tehnică recomandată este folosirea instrucțiunii `with`, care asigură închiderea automată a fișierului."
   ]
  },
  {
   "cell_type": "code",
   "execution_count": null,
   "metadata": {},
   "outputs": [],
   "source": [
    "#Exemplul 2: utilizare \"with\"\n",
    "with open(path+'Data1.txt') as f:\n",
    "    lines=f.readlines() #rcitește toate liniile într-o listă\n",
    "print(len(lines), 'linii citite din fișier.')\n",
    "\n",
    "for i in range(20):    #afișază primele 20 linii\n",
    "    print('Linia',i+1,':',lines[i],end='')"
   ]
  },
  {
   "cell_type": "markdown",
   "metadata": {},
   "source": [
    "Metoda `write()` scrie un șir de caractere în fișier. Delimitatorii de linie sunt inserați automat."
   ]
  },
  {
   "cell_type": "code",
   "execution_count": null,
   "metadata": {},
   "outputs": [],
   "source": [
    "#Exemplul 3: Adaugă date din Data2.txt în Data1.txt\n",
    "\n",
    "f1 = open(path+'Data1.txt', 'a')\n",
    "f2 = open(path+'Data2.txt', 'r')\n",
    "for line in f2:\n",
    "    f1.write(line)\n",
    "f1.close(); f2.close()\n",
    "print(len(open(path+'Data1.txt').readlines()), 'linii în Data1.txt.')"
   ]
  },
  {
   "cell_type": "markdown",
   "metadata": {},
   "source": [
    "## 2 Pachetul pandas\n",
    "Pandas conține obiecte și funcții pentru prelucrarea datelor tabelare (asemănătoare cu foile de calcul sau bazele de date relaționale); oferă mecanisme avansate de indexare și funcții de procesare complexe. Pentru o prezentare mai detaliată v. [acest link](https://pandas.pydata.org/docs/getting_started/overview.html). \n",
    "\n",
    "\n",
    "### 2.1 Structuri de date fundamentale\n",
    "Datele în pandas sunt structurate ca serii unidimensionale (obiectul **Series**) și ca tabele (obiectul  **DataFrame**). Fiecare coloană din DataFrame este un obiect Series.  \n",
    "Rândurile sunt considerate ca **axa 0** din DataFrame, iar coloanele ca **axa 1**. Unele metode au un argument `axis` pentru a diferenția între prelucrarea de rânduri și coloane (de ex. `drop()`, v. secțiunea 2.6).  \n",
    "\n",
    "Obiectele DataFrame conțin un **index** - implicit acesta conține valori întregi (0, 1, ...) asociate fiecărui rând. Prin intermediul indexului se pot accesa anumite rânduri. Atributul `index` permite accesarea indexului (ca obiect).\n",
    "\n",
    "Coloanele au nume (etichete) de coloane (câmpuri, variabile). \n",
    "\n",
    "Citirea datelor csv într-un obiect DataFrame se face cu metoda `read_csv()`. Metode similare există pentru citirea din alte formate: `read_excel()`, `read_json()`, `read_sql()`.  \n",
    "Pentru salvarea datelor în fișiere se folosesc metodele `to_csv()`, `to_excel()`, `to_json()`, `to_sql()`.\n",
    "\n",
    "Metodele `head()` and `tail()` returnează primele, respectiv ultimele n (implicit 5) rânduri."
   ]
  },
  {
   "cell_type": "code",
   "execution_count": null,
   "metadata": {},
   "outputs": [],
   "source": [
    "#Exemplul 4: import date din Csv, afișarea unor informații despre DataFrame\n",
    "\n",
    "import pandas\n",
    "df = pandas.read_csv(path+'clienti_leasing20.csv')\n",
    "\n",
    "print(df.index)\n",
    "print('-'*40)\n",
    "print(df.columns)\n",
    "print('-'*40)\n",
    "print(df.head())\n",
    "print('-'*40)\n",
    "#print(df.tail())"
   ]
  },
  {
   "cell_type": "markdown",
   "metadata": {},
   "source": [
    "### 2.2 Selecția datelor, indexare\n",
    "Pentru a accesa anumite date (rânduri și coloane) din DataFrame sunt disponibile două atribute:\n",
    "- **`iloc`**: localizare după index - accesarea datelor folosind indecși întregi ai rândurilor și coloanelor (asemănător cu elementele dintr-o matrice);\n",
    "- **`loc`**: accesarea datelor după nume de coloane și etichete de rînduri (sau index).\n",
    "\n",
    "*a. Utilizarea `iloc`*"
   ]
  },
  {
   "cell_type": "code",
   "execution_count": null,
   "metadata": {},
   "outputs": [],
   "source": [
    "#Exemplul 5: tilizarea iloc pentru a afișa anumite rânduri\n",
    "\n",
    "import pandas as pd\n",
    "pd.set_option('display.width', 120) #setare lățime de afișare (caractere)\n",
    "\n",
    "df = pd.read_csv(path+'clienti_leasing20.csv')\n",
    "print(df.iloc[2], '\\n', type(df.iloc[2]))       #afișare rândul 3 ==> obiect Series\n",
    "print('-'*40)\n",
    "print(df.iloc[[1,3,5]], '\\n', type(df.iloc[[1,3,5]])) #anumite rânduri (ca listă),\n",
    "                        # ==> obiect DataFrame"
   ]
  },
  {
   "cell_type": "markdown",
   "metadata": {},
   "source": [
    "Pentru a selecta anumite coloane se indică un al doilea element în lista aferentă `iloc`."
   ]
  },
  {
   "cell_type": "code",
   "execution_count": null,
   "metadata": {},
   "outputs": [],
   "source": [
    "#Exemplul 6\n",
    "import pandas as pd\n",
    "df = pd.read_csv(path+'clienti_leasing20.csv')\n",
    "print(df.iloc[2, 0]) #valoarea din rândul 3, prima coloană\n",
    "print('-'*40)\n",
    "print(df.iloc[[1,3,5], [0,2]]) #anumite rânduri și coloane"
   ]
  },
  {
   "cell_type": "markdown",
   "metadata": {},
   "source": [
    "Notația  **slice** poate fi folosită pentru a specifica rânduri/coloane multiple. Atributul `iloc` cu slice se comportă conform mecanismului obișnuit (include limita inferioară, dar nu include limita superioară - v. Seminar 1, Liste)."
   ]
  },
  {
   "cell_type": "code",
   "execution_count": null,
   "metadata": {},
   "outputs": [],
   "source": [
    "#Exemplul 7: Utilizare iloc cu notația slice\n",
    "import pandas as pd\n",
    "pd.set_option('display.width', 120)\n",
    "df = pd.read_csv(path+'clienti_leasing20.csv')\n",
    "\n",
    "print(df.iloc[3:6]) # slice pe rânduri\n",
    "#print(df.iloc[:5])\n",
    "#print(df.iloc[15:])\n",
    "\n",
    "print('-'*40)\n",
    "print(df.iloc[7:10, 2:5])  #  rânduri 7 - 9, coloane 2 - 4\n",
    "#print(df.iloc[0, :]) #primul rând, toate coloanele"
   ]
  },
  {
   "cell_type": "markdown",
   "metadata": {},
   "source": [
    "*b. Utilizare loc* - Accesarea datelor folosind nume de coloane"
   ]
  },
  {
   "cell_type": "code",
   "execution_count": null,
   "metadata": {},
   "outputs": [],
   "source": [
    "#Exemplul 8: Utilizare loc pentru afișare rânduri (înregistrări)\n",
    "#           și coloane, după nume (etichetă)\n",
    "\n",
    "import pandas as pd\n",
    "df = pd.read_csv(path+'clienti_leasing20.csv')\n",
    "print(df.loc[ : ,'NAME_CLIENT'])\n",
    "\n",
    "# când se selectează o singură coloană se poat folosi și următoarele expresii:\n",
    "#print(df['NAME_CLIENT']) # indexare de tip dicționar\n",
    "#print(df.NAME_CLIENT)    # coloană ca atribut (dacă numele de coloană este string)\n",
    "print('-'*40)\n",
    "print(df.loc[5, 'NAME_CLIENT']) # rd. 5, col. NAME_CLIENT\n",
    "print('-'*40)\n",
    "print(df.loc[[5,10],['NAME_CLIENT','JOB']]) # listă rânduri, listă coloane"
   ]
  },
  {
   "cell_type": "markdown",
   "metadata": {},
   "source": [
    "Notația slice se poate folosi cu .loc (nume de coloane), dar **rezultatul va include limita superioară din slice (!)**"
   ]
  },
  {
   "cell_type": "code",
   "execution_count": null,
   "metadata": {},
   "outputs": [],
   "source": [
    "#Exemplul 9: Utilizare .loc cu slice\n",
    "import pandas as pd\n",
    "df = pd.read_csv(path+'clienti_leasing20.csv')\n",
    "\n",
    "print(df.loc[ :10, 'ID_CLIENT':'JOB']) # ! limita superioară inclusă !\n",
    "\n",
    "#print(df.loc[0, :'JOB']) # slice cu lim. sup.\n",
    "#print(df.loc[1, 'JOB':]) # slice cu lim. inf.\n",
    "#print(df.loc[[0,3], : ]) # slice vid (toate coloanele)"
   ]
  },
  {
   "cell_type": "markdown",
   "metadata": {},
   "source": [
    "### 2.3 Selectarea condiționată a datelor\n",
    "Este posibil să se selecteze (filtreze) date pe baza unor condiții aplicate asupra `loc` / `iloc ` (selectare condiționată / indexare booleană):"
   ]
  },
  {
   "cell_type": "code",
   "execution_count": null,
   "metadata": {},
   "outputs": [],
   "source": [
    "#Exemplul 10.a\n",
    "import pandas as pd\n",
    "df = pd.read_csv(path+'clienti_leasing20.csv')\n",
    "\n",
    "print(df.loc[(df['AGE']==35),['NAME_CLIENT']]) # clienți cu vârsta = 35"
   ]
  },
  {
   "cell_type": "markdown",
   "metadata": {},
   "source": [
    "Expresia `df['AGE']==35` generează un obiect Series - vector de valori bool, conținând True/False pentru fiecare rând, în funcție de condiție. Această serie este dată ca argument în `df.loc` pentru a selecta rândurile care au o valoare asociată True. Pentru mai multe informații despre indexarea booleană, v. [acest link](https://pandas.pydata.org/docs/user_guide/indexing.html#boolean-indexing)."
   ]
  },
  {
   "cell_type": "code",
   "execution_count": null,
   "metadata": {},
   "outputs": [],
   "source": [
    "#Exemplul 10.b\n",
    "import pandas as pd\n",
    "df = pd.read_csv(path+'clienti_leasing20.csv')\n",
    "\n",
    "#print(df.loc[ (df['AGE']==35), ['NAME_CLIENT']])\n",
    "print(df['AGE']==35)"
   ]
  },
  {
   "cell_type": "markdown",
   "metadata": {},
   "source": [
    "Pentru formularea unor condiții complexe se utilizează operatorii logici: `|` pt. SAU, `&` pt ȘI, `~` pt negație.  Expresiile trebuiesc grupate în paranteze ()."
   ]
  },
  {
   "cell_type": "code",
   "execution_count": null,
   "metadata": {},
   "outputs": [],
   "source": [
    "#Exemplul 11: Afișare clienți cu vârsta = 35, care sunt bărbați\n",
    "import pandas as pd\n",
    "df = pd.read_csv(path+'clienti_leasing20.csv')\n",
    "\n",
    "print(df.loc[(df['AGE']==35)&(df['SEX']=='m'),['NAME_CLIENT','JOB','SEX','AGE']])"
   ]
  },
  {
   "cell_type": "code",
   "execution_count": null,
   "metadata": {},
   "outputs": [],
   "source": [
    "#Exemplul 12: Afișare clienți care nu sunt ingineri\n",
    "import pandas as pd\n",
    "df = pd.read_csv(path+'clienti_leasing20.csv')\n",
    "\n",
    "print(df.loc[df['JOB'] != 'Engineer', 'NAME_CLIENT':'INCOME_PER_YEAR'])"
   ]
  },
  {
   "cell_type": "markdown",
   "metadata": {},
   "source": [
    "Utilizarea metodelor pe șiruri în condiții  \n",
    "\n",
    "Metodele de prelucrare a șirurilor de caractere se pot accesa prin atributul `.str` al obiectului Series. În general, acestea au aceleși nume ca metodele clasei string: `str.len(), str.lower(), str.upper(), str.strip(), str.startswith(), str.endswith()` etc."
   ]
  },
  {
   "cell_type": "code",
   "execution_count": null,
   "metadata": {},
   "outputs": [],
   "source": [
    "#Exemplul 13: Afișare clienți al căror nume se termină cu  'a'\n",
    "import pandas as pd\n",
    "df = pd.read_csv(path+'clienti_leasing20.csv')\n",
    "print(df.loc[df['NAME_CLIENT'].str.endswith(\"a\"),['NAME_CLIENT','SEX']])"
   ]
  },
  {
   "cell_type": "code",
   "execution_count": null,
   "metadata": {},
   "outputs": [],
   "source": [
    "#Exemplul 14:Afișare clienți al căror nume începe cu 'Ha'\n",
    "import pandas as pd\n",
    "df = pd.read_csv(path+'clienti_leasing20.csv')\n",
    "print(df.loc[df['NAME_CLIENT'].str.startswith(\"Ha\"),['NAME_CLIENT','SEX']])"
   ]
  },
  {
   "cell_type": "markdown",
   "metadata": {},
   "source": [
    "Metoda `DataFrame.isin()` permite verificarea existenței valorilor într-o listă."
   ]
  },
  {
   "cell_type": "code",
   "execution_count": null,
   "metadata": {},
   "outputs": [],
   "source": [
    "#Exemplul 15: Afișare clienți care sunt ingineri sau profesori\n",
    "import pandas as pd\n",
    "df = pd.read_csv(path+'clienti_leasing20.csv')\n",
    "print(df.loc[df['JOB'].isin(['Engineer', 'Professor']),['NAME_CLIENT','SEX', 'JOB']])"
   ]
  },
  {
   "cell_type": "markdown",
   "metadata": {},
   "source": [
    "### 2.4 Modificarea datelor din DataFrame\n",
    "Notația `.loc` / `.iloc` permite atribuirea pentru a modifica valorile datelor."
   ]
  },
  {
   "cell_type": "code",
   "execution_count": null,
   "metadata": {},
   "outputs": [],
   "source": [
    "#Exemplul 16: Modificarea venitului pentru primul rând\n",
    "import pandas as pd\n",
    "df = pd.read_csv(path+'clienti_leasing20.csv')\n",
    "\n",
    "print(df.loc[0, 'INCOME_PER_YEAR'])\n",
    "df.loc[0,'INCOME_PER_YEAR'] = 30000\n",
    "print(df.loc[0, 'INCOME_PER_YEAR'])"
   ]
  },
  {
   "cell_type": "code",
   "execution_count": null,
   "metadata": {},
   "outputs": [],
   "source": [
    "#Exemplul 17: Modificare condiționată: crește veniturile mai mici decât 5000, \n",
    "#            dacă vârsta e mai mare decât 30. \n",
    "import pandas as pd\n",
    "df = pd.read_csv(path+'clienti_leasing20.csv')\n",
    "\n",
    "df1=df.copy() # creare dataframe nou\n",
    "\n",
    "# situație inițială:\n",
    "print(df1.loc[(df1['INCOME_PER_YEAR']<5000)&(df1['AGE']>30), \n",
    "              ['NAME_CLIENT','INCOME_PER_YEAR', 'AGE']])\n",
    "print('-'*40)\n",
    "# actualizare venit :\n",
    "df1.loc[(df1['INCOME_PER_YEAR']<5000)&(df1['AGE']>30),'INCOME_PER_YEAR']=10000\n",
    "# situație finală:\n",
    "print(df1.loc[(df1['INCOME_PER_YEAR']==10000)&(df1['AGE']>30), \n",
    "              ['NAME_CLIENT','INCOME_PER_YEAR', 'AGE']])"
   ]
  },
  {
   "cell_type": "markdown",
   "metadata": {},
   "source": [
    "### 2.5 Calcularea indicatorilor statistici de bază\n",
    "Metoda `describe()` returnează un sumar statistic pentru toate coloanele numerice, sau pentru coloanele specificate.  \n",
    "Pentru a afișa statistici pentru toate coloanele se utilizează argumentul `include=\"all\"`. Observăm că pentru coloanele de tip object se calculează alți indicatori decât pt. coloanele numerice."
   ]
  },
  {
   "cell_type": "code",
   "execution_count": null,
   "metadata": {},
   "outputs": [],
   "source": [
    "#Exemplul 18: the describe() method\n",
    "import pandas as pd\n",
    "df = pd.read_csv(path+'clienti_leasing20.csv',\n",
    "    usecols=['NAME_CLIENT','JOB','SEX','CURRENCY','INCOME_PER_YEAR','DATE','AGE'])\n",
    "\n",
    "print(df.describe())\n",
    "#print(df.describe(include=\"all\"))\n",
    "\n",
    "print('\\n***** describe() pt. coloana JOB *****')\n",
    "print(df['JOB'].describe())\n",
    "\n",
    "print('\\n***** describe() pt. coloana AGE *****')\n",
    "print(df['AGE'].describe())"
   ]
  },
  {
   "cell_type": "markdown",
   "metadata": {},
   "source": [
    "Statistici descriptive : methodele `sum(), mean(), median(), nunique(), max(), min()`"
   ]
  },
  {
   "cell_type": "code",
   "execution_count": null,
   "metadata": {},
   "outputs": [],
   "source": [
    "#Exemplul 19: Statistici descriptive pentru venit (INCOME_PER_YEAR)\n",
    "#import pandas as pd\n",
    "df = pd.read_csv(path+'clienti_leasing20.csv',\n",
    "    usecols=['NAME_CLIENT','JOB','SEX','CURRENCY','INCOME_PER_YEAR','DATE','AGE'])\n",
    "\n",
    "print('Venit total', df['INCOME_PER_YEAR'].sum())\n",
    "print('Venit mediu', df['INCOME_PER_YEAR'].mean())\n",
    "print('Mediana venit', df['INCOME_PER_YEAR'].median())\n",
    "print('Nr. valori unice', df['INCOME_PER_YEAR'].nunique())\n",
    "print('Venit maxim', df['INCOME_PER_YEAR'].max())\n",
    "print('Venit minim', df['INCOME_PER_YEAR'].min())"
   ]
  },
  {
   "cell_type": "markdown",
   "metadata": {},
   "source": [
    "### 2.6\tAlte operații cu DataFrame\n",
    "Tipurile de date ale coloanelor sunt recunoscute automat de `read_csv()`.  \n",
    "Acestea sunt memorate în atributul `.dtypes`.  \n",
    "În unele cazuri, este necesar să setăm manual tipul de date al coloanelor."
   ]
  },
  {
   "cell_type": "code",
   "execution_count": null,
   "metadata": {},
   "outputs": [],
   "source": [
    "#Exemplul 20: Afișarea și modificarea tipului de date al coloanelor\n",
    "import pandas as pd\n",
    "df = pd.read_csv(path+'clienti_leasing20.csv')\n",
    "print(df.dtypes)  # ce tip au coloanele AGE, DATE ?\n",
    "print('-'*40)\n",
    "\n",
    "df = pd.read_csv(path+'clienti_leasing20.csv', parse_dates = ['DATE']) #citire 'DATE' ca dată calendaristică\n",
    "df.AGE = df.AGE.astype(float) #conversie tip AGE în float\n",
    "print(df.dtypes)"
   ]
  },
  {
   "cell_type": "markdown",
   "metadata": {},
   "source": [
    "Înlocuirea valorilor lipsă (*missing values*) se face cu `fillna()`.  \n",
    "Se poate folosi și `dropna()` pentru a șterge rândurile care conțin valori lipsă."
   ]
  },
  {
   "cell_type": "code",
   "execution_count": null,
   "metadata": {},
   "outputs": [],
   "source": [
    "#Exemplul 21: Înlocuirea valorilor lipsă\n",
    "import pandas as pd\n",
    "df = pd.read_csv(path+'clienti_leasing20missing.csv',\n",
    "    usecols=['NAME_CLIENT','JOB','SEX','CURRENCY','INCOME_PER_YEAR','DATE','AGE'])\n",
    "\n",
    "print(df['AGE']) # verificați dacă există valori lipsă!\n",
    "#print(df.loc[df['AGE'].isnull()]) # afișare rânduri cu valori lipsă pt. AGE\n",
    "print('-'*40)\n",
    "print(df['AGE'].fillna('lipsa')) # înlocuire cu un șir"
   ]
  },
  {
   "cell_type": "code",
   "execution_count": null,
   "metadata": {},
   "outputs": [],
   "source": [
    "#Exemplul 22: Înlocuirea valorilor lipsă cu media valorilor\n",
    "#import pandas as pd\n",
    "df = pd.read_csv(path+'clienti_leasing20missing.csv',\n",
    "     usecols=['NAME_CLIENT','JOB','SEX','CURRENCY','INCOME_PER_YEAR','DATE','AGE'])\n",
    "mean_age = int(df['AGE'].mean())\n",
    "df['AGE'] = df['AGE'].fillna(value = mean_age)\n",
    "print(df.AGE)"
   ]
  },
  {
   "cell_type": "markdown",
   "metadata": {},
   "source": [
    "Ștergerea de rânduri și coloane se fae cu metoda `drop()`. Argumentul `axis` indică dacă se vor șterge rânduri (`axis=0`) sau coloane (`axis=1`).\n",
    "`drop()` returnează un nou DataFrame. Dacă se utilizează argumentul `inplace=True`, se modifică obiectul curent."
   ]
  },
  {
   "cell_type": "code",
   "execution_count": null,
   "metadata": {},
   "outputs": [],
   "source": [
    "#Exemplul 23: Ștergere coloane\n",
    "import pandas as pd\n",
    "pd.set_option('display.width', 120)\n",
    "#pd.show_versions()\n",
    "\n",
    "df = pd.read_csv(path+'clienti_leasing20.csv')\n",
    "\n",
    "# Ștergere coloană - axis = 1\n",
    "df1 = df.drop(\"ID_CLIENT\", axis=1)\n",
    "print(df1.head())\n",
    "print('-'*40)\n",
    "\n",
    "# Ștergere coloană utilizând arg. columns\n",
    "df2 = df.drop(columns=\"AGE\")  #doar în pandas ver. 0.21.0+ ! verifică pd.show_versions()\n",
    "print(df2.head())\n",
    "print('-'*40)\n",
    "\n",
    "# Ștergere coloane (ca listă), salvare într-un nou fișier csv\n",
    "df3 = df.drop([\"JOB\", \"SEX\"], axis=1)\n",
    "print(df3.head())\n",
    "df3.to_csv('clienti_df.csv', index = False)\n",
    "print('-'*40)\n",
    "\n",
    "#Ștergere coloană – modifică dataframe curent:\n",
    "# inplace = True, drop() returnează None\n",
    "df.drop(\"INCOME_PER_YEAR\", axis=1, inplace = True)\n",
    "print(df.head())"
   ]
  },
  {
   "cell_type": "code",
   "execution_count": null,
   "metadata": {},
   "outputs": [],
   "source": [
    "#Exemplul 24: Ștergere rânduri (înregistrări)\n",
    "import pandas as pd\n",
    "df = pd.read_csv(path+'clienti_leasing20.csv')\n",
    "\n",
    "# Șterge rânduri 3, 5, 8\n",
    "df4 = df.drop([3,5,8], axis=0)\n",
    "print(df4.head(10))"
   ]
  },
  {
   "cell_type": "markdown",
   "metadata": {},
   "source": [
    "Indexul implicit al rândurilor (nr. întreg) poate fi înlocuit cu valori din coloane ale DataFrame-ului, folosind metoda `set_index()`."
   ]
  },
  {
   "cell_type": "code",
   "execution_count": null,
   "metadata": {},
   "outputs": [],
   "source": [
    "#Exemplul 25\n",
    "import pandas as pd\n",
    "pd.set_option('display.width', 120)\n",
    "df = pd.read_csv(path+'clienti_leasing20.csv')\n",
    "\n",
    "# Șterge clienți care sunt Ingineri.\n",
    "# set_index() setează coloana JOB ca index.\n",
    "# Astfel putem folosi valori din JOB pentru a selecta rânduri.\n",
    "df5 = df.set_index(\"JOB\")\n",
    "df5.drop(\"Engineer\", axis=0, inplace = True)\n",
    "print(df5.head())"
   ]
  },
  {
   "cell_type": "markdown",
   "metadata": {},
   "source": [
    "Modificări la importul datelor din csv  \n",
    "La citirea din fișiere csv putem selecta anumite coloane (argumentul `usecols`) și putem exclude anumite rânduri (arg. `skiprows/skipfooter`).  \n",
    "Numărul de rânduri ce vor fi citite este specificat cu `nrows`."
   ]
  },
  {
   "cell_type": "code",
   "execution_count": null,
   "metadata": {},
   "outputs": [],
   "source": [
    "#Exemplul 26:\n",
    "import pandas as pd\n",
    "df = pd.read_csv(path+'clienti_leasing20.csv', \n",
    "     usecols = ['NAME_CLIENT','JOB'],\n",
    "     skiprows = [6,7,9])\n",
    "print(df)"
   ]
  },
  {
   "cell_type": "code",
   "execution_count": null,
   "metadata": {},
   "outputs": [],
   "source": [
    "#Exemplul 27: Restricționează nr. de rânduri citite (nrows)\n",
    "import pandas as pd\n",
    "df = pd.read_csv(path+'clienti_leasing20.csv', \n",
    "     nrows=6, \n",
    "     usecols = ['NAME_CLIENT','INCOME_PER_YEAR'])\n",
    "print(df)"
   ]
  },
  {
   "cell_type": "markdown",
   "metadata": {},
   "source": [
    "Sortarea înregistrărilor din DataFrame\n",
    "\n",
    "Metoda `sort_values()` returnează un obiect DataFrame nou, sortat. Pt. mai multe detalii v. [acest link](https://pandas.pydata.org/docs/reference/api/pandas.DataFrame.sort_values.html?highlight=sort_values#pandas.DataFrame.sort_values)."
   ]
  },
  {
   "cell_type": "code",
   "execution_count": null,
   "metadata": {},
   "outputs": [],
   "source": [
    "#Exemplul 28: Exemple de sortare\n",
    "import pandas as pd\n",
    "df = pd.read_csv(path+'clienti_leasing20.csv')\n",
    "\n",
    "df7 = df.sort_values(by='INCOME_PER_YEAR') # sortare 1 col., crescător (implicit)\n",
    "print(df7.loc[ : , ['NAME_CLIENT','INCOME_PER_YEAR']].head(10))\n",
    "print('-'*40)\n",
    "\n",
    "df8=df.sort_values(by='AGE', ascending=False) # sortare desc.\n",
    "print(df8.loc[ : , ['NAME_CLIENT','AGE']].head(10))\n",
    "print('-'*40)\n",
    "\n",
    "df9=df.sort_values(by=['JOB', 'AGE']) # sortare multiplă\n",
    "print(df9.loc[ : , ['NAME_CLIENT','JOB', 'AGE']].head(10))\n",
    "print('-'*40)\n",
    "\n",
    "df10=df.sort_values(by=['JOB', 'INCOME_PER_YEAR'], ascending=[True, False]) #sortare multiplă cu direcție\n",
    "print(df10.loc[ : , ['NAME_CLIENT','JOB', 'INCOME_PER_YEAR']].head(10))"
   ]
  },
  {
   "cell_type": "markdown",
   "metadata": {},
   "source": [
    "Metoda `rename()` redenumește coloane. Argumentul `columns` primește un dicționar cu numele curente (chei) și numele noi (valori)."
   ]
  },
  {
   "cell_type": "code",
   "execution_count": null,
   "metadata": {},
   "outputs": [],
   "source": [
    "#Exemplul 29\n",
    "import pandas as pd\n",
    "df = pd.read_csv('clienti_leasing20.csv')\n",
    "\n",
    "#df = df.rename(columns={\"ID_CLIENT\": \"Id\"})\n",
    "#df = df.rename(columns={\"JOB\": \"Position\"})\n",
    "df=df.rename(columns={\"ID_CLIENT\": \"ID\", \"JOB\": \"Position\"})\n",
    "print(df.columns)\n",
    "print('-'*40)\n",
    "\n",
    "# Aplicarea unei funcții pe șiruri la numele coloanelor\n",
    "df=df.rename(columns=str.lower) \n",
    "print(df.columns)"
   ]
  },
  {
   "cell_type": "markdown",
   "metadata": {},
   "source": [
    "## 3 Utilizarea modulului csv pentru citirea din fișiere csv\n",
    "Un obiect `csv.reader` este creat și utlizat pentru a accesa datele, pe baza unui fișier text (csv) deschis. Acest obiect poate fi iterat într-o structură `for`, pentru a procesa fiecare linie.  \n",
    "La deschiderea fișierului csv se folosește argumentul `newline=\"\"` pentru a asigura tratarea corectă a delimitatorilor sfârșit de linie."
   ]
  },
  {
   "cell_type": "code",
   "execution_count": null,
   "metadata": {},
   "outputs": [],
   "source": [
    "#Exemplul 30: Utilizare csv.reader\n",
    "import csv\n",
    "with open(path+'clienti_leasing20.csv', 'r', newline='') as f:\n",
    "    reader = csv.reader(f)\n",
    "    for row in reader:\n",
    "        print (row)"
   ]
  },
  {
   "cell_type": "code",
   "execution_count": null,
   "metadata": {},
   "outputs": [],
   "source": [
    "#Exemplul 31: Citirea unei coloane din fișier .csv\n",
    "import csv\n",
    "with open(path+'clienti_leasing20.csv', 'r', newline='') as f:\n",
    "    reader = csv.reader(f)\n",
    "    for row in reader:\n",
    "        print (row[1])"
   ]
  },
  {
   "cell_type": "code",
   "execution_count": null,
   "metadata": {},
   "outputs": [],
   "source": [
    "#Exemplul 32: Citire coloane\n",
    "#import csv\n",
    "with open(path+'clienti_leasing20.csv', 'r', newline='') as f:\n",
    "    reader = csv.reader(f)\n",
    "    for row in reader:\n",
    "        print (row[1],row[7]) # col. NAME_CLIENT și AGE\n",
    "        #print(row[0:3])      # primele 3 col."
   ]
  },
  {
   "cell_type": "markdown",
   "metadata": {},
   "source": [
    "Funcția built-in `enumerate()` se utilizează pentru a genera un contor automat la iterarea cu `for ... in ...`. Este aplicabilă și pentru iterarea rândurilor într-un obiect reader. (v. și [doc. `enumerate()`](https://docs.python.org/3.7/library/functions.html?highlight=enumerate#enumerate))."
   ]
  },
  {
   "cell_type": "code",
   "execution_count": null,
   "metadata": {},
   "outputs": [],
   "source": [
    "#Exemplul 33: utilizare enumerate() pentru a citi primele 10 înreg.\n",
    "#import csv\n",
    "with open(path+'clienti_leasing20.csv', 'r', newline='') as f:\n",
    "    reader = csv.reader(f)\n",
    "    for i, row in enumerate(reader):\n",
    "        print(row)\n",
    "        if(i >= 10):\n",
    "            break"
   ]
  },
  {
   "cell_type": "markdown",
   "metadata": {},
   "source": [
    "În același scop se poate folosi și un obiect `islice` din modulul `itertools` (v. [doc. islice](https://docs.python.org/3.7/library/itertools.html#itertools.islice))."
   ]
  },
  {
   "cell_type": "code",
   "execution_count": null,
   "metadata": {},
   "outputs": [],
   "source": [
    "#Exemplul 34: Citirea primelor 10 înreg. cu islice\n",
    "#import csv\n",
    "from itertools import islice\n",
    "\n",
    "with open(path+'clienti_leasing20.csv', 'r', newline='') as f:\n",
    "    reader = csv.reader(f)\n",
    "    for row in islice(reader, 10): \n",
    "        print(row)"
   ]
  },
  {
   "cell_type": "code",
   "execution_count": null,
   "metadata": {},
   "outputs": [],
   "source": [
    "#Exemplul 35: Citirea coloanelor csv în liste\n",
    "id_client = []\n",
    "name_client = []\n",
    "sex = []\n",
    "with open(path+'clienti_leasing20.csv', 'r', newline='') as f:\n",
    "    reader = csv.reader(f)\n",
    "    for row in reader:\n",
    "        id_client.append(row[0])\n",
    "        name_client.append(row[1])\n",
    "        sex.append(row[3])\n",
    "print(id_client)\n",
    "print(name_client)\n",
    "print(sex)"
   ]
  },
  {
   "cell_type": "code",
   "execution_count": null,
   "metadata": {},
   "outputs": [],
   "source": [
    "#Exemplul 36: Citire date din csv și procesare (afișare cu format)\n",
    "#import sys\n",
    "#print(sys.version) #afișază versiune python\n",
    "\n",
    "#import csv\n",
    "with open(path+'angajati.txt', newline='') as f:\n",
    "    reader = csv.reader(f, delimiter=',')  # specificare delimitator\n",
    "    line_count = 0\n",
    "    for row in reader:\n",
    "        if line_count == 0:\n",
    "            #print('Nume coloane: {}'.format(\", \".join(row))) #Python version < 3.6\n",
    "            print(f'Nume coloane: {\", \".join(row)}') #Python 3.6+ ! vezi sys.version()\n",
    "            line_count += 1\n",
    "        else:\n",
    "            #print('\\t{} lucrează in dep.: {}, născut în: {}'.format(row[0],row[1],row[2])) # Python ver. < 3.6\n",
    "            print(f'\\t{row[0]} lucrează in dep.: {row[1]}, născut în: {row[2]}.') #Python 3.6+ \n",
    "            line_count += 1\n",
    "    #print('S-au procesat {} linii.'.format(line_count)) #Python ver. < 3.6\n",
    "    print(f'S-au procesat {line_count} linii.') #Python 3.6+"
   ]
  },
  {
   "cell_type": "markdown",
   "metadata": {},
   "source": [
    "Obiectul `csv.DictReader` poate fi folosit în locul lui `reader` pentru a citi date într-un dicționar. (v. [doc. csv.DictReader](https://docs.python.org/3.7/library/csv.html#csv.DictReader))"
   ]
  },
  {
   "cell_type": "code",
   "execution_count": null,
   "metadata": {},
   "outputs": [],
   "source": [
    "#Exemplul 37: Citire date din fișier csv în dicționar.\n",
    "# Prima linie din fișier conține numele de câmpuri (coloane)\n",
    "#import csv\n",
    "with open(path+'angajati.txt', newline='') as f:\n",
    "    reader = csv.DictReader(f, delimiter=',')\n",
    "    for row in reader:\n",
    "        print(row)"
   ]
  },
  {
   "cell_type": "code",
   "execution_count": null,
   "metadata": {},
   "outputs": [],
   "source": [
    "#Exemplul 38: utilizare DictReader, se specifică delimitatorul ';'\n",
    "#import csv\n",
    "with open(path+'angajati1.txt', newline='') as f:\n",
    "    reader = csv.DictReader(f, delimiter =';')\n",
    "    for row in reader:\n",
    "        print(row)"
   ]
  },
  {
   "cell_type": "markdown",
   "metadata": {},
   "source": [
    "Scrierea într-un fișier csv se face cu obiectele `csv.writer` sau `csv.DictWriter`, folosind metoda `writerow()`."
   ]
  },
  {
   "cell_type": "code",
   "execution_count": null,
   "metadata": {},
   "outputs": [],
   "source": [
    "#Exemplul 39: utilizare csv.writer, writerow()\n",
    "#import csv\n",
    "with open(path+'angajati.csv', mode='w', newline='') as f: #creare fișier\n",
    "    writer = csv.writer(f)\n",
    "    writer.writerow(['Nume', 'Departament', 'Luna'])\n",
    "    writer.writerow(['Cosmin Antonescu', 'Marketing', 'Noiembrie'])\n",
    "    writer.writerow(['Eugenia Marin', 'Vanzari', 'Iulie'])\n",
    "\n",
    "#afișare conținut fișier:\n",
    "with open(path+'angajati.csv', newline='') as f:\n",
    "    reader = csv.reader(f)\n",
    "    for row in reader:\n",
    "        print(row)"
   ]
  },
  {
   "cell_type": "code",
   "execution_count": null,
   "metadata": {},
   "outputs": [],
   "source": [
    "#Exemplul 40: utilizare csv.DictWriter\n",
    "#import csv\n",
    "with open(path+'angajati1.csv', mode='w', newline='') as f:\n",
    "    fieldnames = ['Nume', 'Departament', 'Luna']\n",
    "    writer = csv.DictWriter(f, fieldnames=fieldnames)\n",
    "    writer.writeheader()\n",
    "    writer.writerow({'Nume': 'Constantinescu Andrei', 'Departament': 'Contabilitate', 'Luna': 'aprilie'})\n",
    "    writer.writerow({'Nume': 'Iliescu Emil', 'Departament': 'IT', 'Luna': 'mai'})\n",
    "\n",
    "#afișare conținut fișier:\n",
    "with open(path+'angajati1.csv', newline='') as f:\n",
    "    reader = csv.reader(f)\n",
    "    for row in reader:\n",
    "        print(row)"
   ]
  },
  {
   "cell_type": "markdown",
   "metadata": {},
   "source": [
    "## 4 Citirea datelor din fișiere JSON cu modulul json"
   ]
  },
  {
   "cell_type": "code",
   "execution_count": null,
   "metadata": {},
   "outputs": [],
   "source": [
    "#Exemplul 41: utilizare modul json, metoda json.load()\n",
    "import json\n",
    "from pprint import pprint     #\"pretty print\"-afișare mai lizibilă a str. de date\n",
    "\n",
    "with open('clienti_daune100.json') as f:\n",
    "    data = json.load(f)    # încărcare date într-o listă de dicționare\n",
    "pprint(data[0])            # afișare prima înreg."
   ]
  },
  {
   "cell_type": "code",
   "execution_count": null,
   "metadata": {},
   "outputs": [],
   "source": [
    "#Exemplul 42: Procesare date json\n",
    "# Calculul frecvenței de apariție a cuvintelor în câmpul \"Dauna\"\n",
    "import json\n",
    "from pprint import pprint\n",
    "\n",
    "#deschide fișier, încarcă datele\n",
    "with open ('clienti_daune100.json') as f:\n",
    "    data=json.load(f)\n",
    "\n",
    "# construire listă a tuturor cuvintelor din câmpul \"Dauna\"\n",
    "word_list=[]\n",
    "for rec in data:   \n",
    "      word_list=word_list + rec['Dauna'].lower().split()\n",
    "print(word_list[:100], '...', len(word_list), 'cuvinte în total.' )\n",
    "\n",
    "# calcul frecvențe, memorare în dicționar\n",
    "dict = {}\n",
    "for word in word_list:\n",
    "    if word not in dict:\n",
    "        dict[word] = 1\n",
    "    else:\n",
    "        dict[word] += 1\n",
    "        \n",
    "# Creare listă a cuvintelor și frecvențelor, sortare desc. și afișare\n",
    "w_freq = []\n",
    "for key, value in dict.items():\n",
    "    w_freq.append((value, key))   #adăugare tuplu la listă\n",
    "w_freq.sort(reverse=True)\n",
    "pprint(w_freq[:100])"
   ]
  },
  {
   "cell_type": "markdown",
   "metadata": {},
   "source": [
    "## Referințe\n",
    "\n",
    "Pandas Documentation, https://pandas.pydata.org/docs/getting_started/index.html   \n",
    "J. VanderPlas, Python Data Science Handbook - https://jakevdp.github.io/PythonDataScienceHandbook/  \n",
    "https://realpython.com/python-csv/  \n",
    "https://www.shanelynn.ie/python-pandas-read_csv-load-data-from-csv-files/  \n",
    "https://www.shanelynn.ie/select-pandas-dataframe-rows-and-columns-using-iloc-loc-and-ix/ "
   ]
  },
  {
   "cell_type": "markdown",
   "metadata": {},
   "source": [
    "## 5 Exerciții\n",
    "\n",
    "1) Să se creeze un nou set de date din clienti_leasing500.csv, având coloanele name_client, deposit_amount și prescoring, dacă val_credits_ron = 0 și deposit_amount > 1000 și să se modifice coloana prescoring = 6 dacă deposit_amount > 5000. Salvați setul modificat într-un nou fișier csv."
   ]
  },
  {
   "cell_type": "code",
   "execution_count": null,
   "metadata": {},
   "outputs": [],
   "source": []
  },
  {
   "cell_type": "markdown",
   "metadata": {},
   "source": [
    "2) La exemplul 42 se vor afișa cuvintele a căror frecvență de apariție >= 30, eliminându-se cuvintele the, and, to, a."
   ]
  },
  {
   "cell_type": "code",
   "execution_count": null,
   "metadata": {},
   "outputs": [],
   "source": []
  }
 ],
 "metadata": {
  "kernelspec": {
   "display_name": "Python 3",
   "language": "python",
   "name": "python3"
  },
  "language_info": {
   "codemirror_mode": {
    "name": "ipython",
    "version": 3
   },
   "file_extension": ".py",
   "mimetype": "text/x-python",
   "name": "python",
   "nbconvert_exporter": "python",
   "pygments_lexer": "ipython3",
   "version": "3.7.4"
  }
 },
 "nbformat": 4,
 "nbformat_minor": 4
}
